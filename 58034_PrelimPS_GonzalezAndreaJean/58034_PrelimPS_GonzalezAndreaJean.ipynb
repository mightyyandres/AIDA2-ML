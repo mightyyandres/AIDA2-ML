{
  "nbformat": 4,
  "nbformat_minor": 0,
  "metadata": {
    "colab": {
      "name": "58034_LabNo.02_BreananAndFriends.ipynb",
      "provenance": [],
      "collapsed_sections": []
    },
    "kernelspec": {
      "name": "python3",
      "display_name": "Python 3"
    },
    "language_info": {
      "name": "python"
    }
  },
  "cells": [
    {
      "cell_type": "markdown",
      "metadata": {
        "id": "fte_zsqVdp8R"
      },
      "source": [
        "# Topic02a : Prelim Problem Set I"
      ]
    },
    {
      "cell_type": "markdown",
      "metadata": {
        "id": "JpcY5oJ5eFxA"
      },
      "source": [
        "## Case 1\n",
        "Represent the following representations into its vectorized form using LaTeX.\n",
        "> **Problem 1.a. System of Linear Equations**\n",
        "$$\n",
        "\\left\\{\n",
        "    \\begin{array}\\\\\n",
        "        -y+z=\\frac{1}{32}\\\\ \n",
        "        \\frac{1}{2}x -2y=0 \\\\\n",
        "        -x + \\frac{3}{7}z=\\frac{4}{5}\n",
        "    \\end{array}\n",
        "\\right. $$\n",
        "> **Problem 1.b. Linear Combination**\n",
        "$$  \\cos{(\\theta)}\\hat{i} + \\sin{(\\theta)}\\hat{j} - \\csc{(2\\theta)}\\hat{k}$$\n",
        "> **Problem 1.c. Scenario**\n",
        ">\n",
        ">A conference has 200 student attendees, 45 professionals, and has 15 members of the panel. There is a team of 40 people on the organizing committee. Represent the *percent* composition of each *attendee* type of the conference in matrix form.\n",
        "\n",
        "Express your answers in LaTeX in the answer area.\n"
      ]
    },
    {
      "cell_type": "markdown",
      "metadata": {
        "id": "vyAP-hzMt6wS"
      },
      "source": [
        "#Solution\n",
        "> **Problem 1.a. System of Linear Equations (Solution)**\n",
        "$$\n",
        "{\n",
        "    \\begin{array}\\\\\n",
        "        -y+z=\\frac{1}{32}\\\\ \n",
        "        -y=\\frac{1}{32}-z\\\\ \n",
        "        \\frac{y}{-1}=\\frac{1/32}{-1}-\\frac{z}{-1}\\\\\n",
        "        y=-\\frac{1-32z}{32}\\\\ \n",
        "    \\end{array}}\n",
        ".$$\n",
        "> **$$Substitute: y=-\\frac{1-32z}{32}\\\\\n",
        "\\frac{1}{2}x -2(-\\frac{1-32z}{32})=0 \\\\\n",
        "\\frac{1}{2}x +(\\frac{1-32z}{16})=0 \\\\\n",
        "\\frac{1}{2}x =(-\\frac{1-32z}{16}) \\\\\n",
        "2.\\frac{1}{2}x =2.(-\\frac{1-32z}{16}) \\\\\n",
        "x =-\\frac{1-32z}{8} \\\\\n",
        "Substitute: x =-\\frac{1-32z}{8}\\\\\n",
        "$$**\n"
      ]
    },
    {
      "cell_type": "code",
      "metadata": {
        "id": "WsL-ipLw2pek"
      },
      "source": [
        "import numpy as np"
      ],
      "execution_count": null,
      "outputs": []
    },
    {
      "cell_type": "markdown",
      "metadata": {
        "id": "f-gCPlbcOUIb"
      },
      "source": [
        "> **Problem 1.a. System of Linear Equations**"
      ]
    },
    {
      "cell_type": "code",
      "metadata": {
        "colab": {
          "base_uri": "https://localhost:8080/"
        },
        "id": "MtDAwEhK3J5l",
        "outputId": "f2410c74-a398-4e7e-c1ce-454f13721762"
      },
      "source": [
        "A = np.array([[-1, 1],[1/2, 2],[-1, 3/7]])\n",
        "A"
      ],
      "execution_count": null,
      "outputs": [
        {
          "output_type": "execute_result",
          "data": {
            "text/plain": [
              "array([[-1.        ,  1.        ],\n",
              "       [ 0.5       ,  2.        ],\n",
              "       [-1.        ,  0.42857143]])"
            ]
          },
          "metadata": {},
          "execution_count": 4
        }
      ]
    },
    {
      "cell_type": "code",
      "metadata": {
        "colab": {
          "base_uri": "https://localhost:8080/"
        },
        "id": "ZyIjrGAs6sSC",
        "outputId": "76b4783d-0be6-4935-c3f7-c2b878f6390c"
      },
      "source": [
        "B = np.array([1/32, 4/5])\n",
        "B\n"
      ],
      "execution_count": null,
      "outputs": [
        {
          "output_type": "execute_result",
          "data": {
            "text/plain": [
              "array([0.03125, 0.8    ])"
            ]
          },
          "metadata": {},
          "execution_count": 5
        }
      ]
    },
    {
      "cell_type": "code",
      "metadata": {
        "colab": {
          "base_uri": "https://localhost:8080/"
        },
        "id": "1QjcdqxQ-UFg",
        "outputId": "b6ea4128-138d-4954-d03c-c07814526544"
      },
      "source": [
        "# X = np.linalg.inv(A).dot(B)\n",
        "np.dot(A,B)"
      ],
      "execution_count": null,
      "outputs": [
        {
          "output_type": "execute_result",
          "data": {
            "text/plain": [
              "array([0.76875   , 1.615625  , 0.31160714])"
            ]
          },
          "metadata": {},
          "execution_count": 6
        }
      ]
    },
    {
      "cell_type": "markdown",
      "metadata": {
        "id": "m6rRav3u_2UM"
      },
      "source": [
        "> **Problem 1.b. Linear Combination**"
      ]
    },
    {
      "cell_type": "code",
      "metadata": {
        "colab": {
          "base_uri": "https://localhost:8080/"
        },
        "id": "_MfGNROZ_7mK",
        "outputId": "0b865489-9b2d-4cc1-f30b-f8d0912b8996"
      },
      "source": [
        "theta = np.radians(30)\n",
        "R = np.array([[np.cos(theta), np.sin(theta),np.arcsin(2*theta)]])\n",
        "R"
      ],
      "execution_count": null,
      "outputs": [
        {
          "output_type": "stream",
          "name": "stderr",
          "text": [
            "/usr/local/lib/python3.7/dist-packages/ipykernel_launcher.py:2: RuntimeWarning: invalid value encountered in arcsin\n",
            "  \n"
          ]
        },
        {
          "output_type": "execute_result",
          "data": {
            "text/plain": [
              "array([[0.8660254, 0.5      ,       nan]])"
            ]
          },
          "metadata": {},
          "execution_count": 48
        }
      ]
    },
    {
      "cell_type": "markdown",
      "metadata": {
        "id": "eg54F_QtF_gE"
      },
      "source": [
        "> **Problem 1.c. Scenario**"
      ]
    },
    {
      "cell_type": "code",
      "metadata": {
        "colab": {
          "base_uri": "https://localhost:8080/"
        },
        "id": "rtLvVhlrGAnE",
        "outputId": "cec3a381-c702-45cc-86f3-0843a2ab57c8"
      },
      "source": [
        "Conference = np.array([200,45,15,40])\n",
        "percentage = Conference/Conference.sum(axis=0)*100\n",
        "print(percentage)"
      ],
      "execution_count": null,
      "outputs": [
        {
          "output_type": "stream",
          "name": "stdout",
          "text": [
            "[66.66666667 15.          5.         13.33333333]\n"
          ]
        }
      ]
    },
    {
      "cell_type": "markdown",
      "metadata": {
        "id": "7wtwuP3yGLU7"
      },
      "source": [
        "\\begin{array}{ccc}\n",
        "\\text{Attendees}&\\text{Number of People}&\\text{Percentage}\\\\\n",
        "Attendees&200&66.6\\% \\\\\n",
        "Professionals&45&15\\% \\\\\n",
        "Panels&15&5\\%\\\\\n",
        "Org\\ Committee&40&13.33\\%\n",
        "\\end{array}"
      ]
    },
    {
      "cell_type": "markdown",
      "metadata": {
        "id": "Uvb1MGs9QNVt"
      },
      "source": [
        "# Case 2\n",
        "> **Problem 2.a: Vector Magnitude**\n",
        "\n",
        ">The magnitude of a vector is usually computed as:\n",
        "$$||v|| = \\sqrt{a_0^2 + a_1^2 + ... +a_n^2}$$\n",
        "Whereas $v$ is any vector and $a_k$ are its elements wherein $k$ is the size of $v$.\n",
        "Re-formulate $||v||$ as a function of an inner product. Further discuss this concept and provide your user-defined function.\n",
        "\n",
        "> **Problem 2.b: Angle Between Vectors**\n",
        "\n",
        "> Inner products can also be related to the Law of Cosines. The property suggests that:\n",
        "$$u\\cdot v = ||u||\\cdot||v||\\cos(\\theta)$$\n",
        "Whereas $u$ and $v$ are vectors that have the same sizes and $\\theta$ is the angle between $u$ and $v$.\n",
        "\n",
        "> Explain the behavior of the dot product when the two vectors are perpendicular and when they are parallel.\n"
      ]
    },
    {
      "cell_type": "markdown",
      "metadata": {
        "id": "zGT6GUeCO_JK"
      },
      "source": [
        "#Solution\n",
        "> **Problem 2.a: Vector Magnitude**"
      ]
    },
    {
      "cell_type": "code",
      "metadata": {
        "id": "dAE799yEPKjf"
      },
      "source": [
        "def vector_magnitude(x):\n",
        "  return np.sqrt(sum(i**2 for i in x))"
      ],
      "execution_count": null,
      "outputs": []
    },
    {
      "cell_type": "code",
      "metadata": {
        "colab": {
          "base_uri": "https://localhost:8080/"
        },
        "id": "UBHQuzUUQrSU",
        "outputId": "d33bd75e-141b-4805-fc5d-ed923d636edc"
      },
      "source": [
        "a = 5*np.random.randn(6)\n",
        "a"
      ],
      "execution_count": null,
      "outputs": [
        {
          "output_type": "execute_result",
          "data": {
            "text/plain": [
              "array([ 3.93964854, -7.15139717, -3.86628941, -1.8916867 , -0.48208711,\n",
              "       -3.90560029])"
            ]
          },
          "metadata": {},
          "execution_count": 17
        }
      ]
    },
    {
      "cell_type": "code",
      "metadata": {
        "colab": {
          "base_uri": "https://localhost:8080/"
        },
        "id": "wSQNs9LQRGAy",
        "outputId": "ee9b2da3-252a-4ad6-90c5-2c8fb5726c1d"
      },
      "source": [
        "np.linalg.norm(a)"
      ],
      "execution_count": null,
      "outputs": [
        {
          "output_type": "execute_result",
          "data": {
            "text/plain": [
              "10.03374835526016"
            ]
          },
          "metadata": {},
          "execution_count": 19
        }
      ]
    },
    {
      "cell_type": "code",
      "metadata": {
        "colab": {
          "base_uri": "https://localhost:8080/"
        },
        "id": "sNhgliURRSw4",
        "outputId": "4ab08ee0-a8ff-42b8-8b28-73859bf2016f"
      },
      "source": [
        "vector_magnitude(a)"
      ],
      "execution_count": null,
      "outputs": [
        {
          "output_type": "execute_result",
          "data": {
            "text/plain": [
              "10.03374835526016"
            ]
          },
          "metadata": {},
          "execution_count": 23
        }
      ]
    },
    {
      "cell_type": "markdown",
      "metadata": {
        "id": "WeoQTaMxPAw_"
      },
      "source": [
        "> **Problem 2.b: Angle Between Vectors**"
      ]
    },
    {
      "cell_type": "code",
      "metadata": {
        "id": "lJVTedATSDUF"
      },
      "source": [
        "def angle_vectors(a,b):\n",
        "  inner = np.inner(a, b)\n",
        "  norms = np.linalg.norm(a) * np.linalg.norm(b)\n",
        "\n",
        "  cos = inner / norms\n",
        "  rad = np.arccos(np.clip(cos, -1.0, 1.0))\n",
        "  deg = np.rad2deg(rad)\n",
        "  print(\"Radiant: \", rad)\n",
        "  print(\"Degree: \", deg)\n",
        "  return deg,rad"
      ],
      "execution_count": null,
      "outputs": []
    },
    {
      "cell_type": "code",
      "metadata": {
        "colab": {
          "base_uri": "https://localhost:8080/"
        },
        "id": "5nt97TUeT7yC",
        "outputId": "ee79d834-aeac-4439-842e-3b52525266b4"
      },
      "source": [
        "a = np.array([9, 5])\n",
        "b = np.array([-6, 2])\n",
        "print(a,b)"
      ],
      "execution_count": null,
      "outputs": [
        {
          "output_type": "stream",
          "name": "stdout",
          "text": [
            "[9 5] [-6  2]\n"
          ]
        }
      ]
    },
    {
      "cell_type": "code",
      "metadata": {
        "colab": {
          "base_uri": "https://localhost:8080/"
        },
        "id": "7I9dWlFcUB_f",
        "outputId": "826637c9-8df2-4fba-8556-361125a1a796"
      },
      "source": [
        "angle_vectors(a,b)"
      ],
      "execution_count": null,
      "outputs": [
        {
          "output_type": "stream",
          "name": "stdout",
          "text": [
            "Radiant:  2.3127435948008137\n",
            "Degree:  132.51044707800082\n"
          ]
        },
        {
          "output_type": "execute_result",
          "data": {
            "text/plain": [
              "(132.51044707800082, 2.3127435948008137)"
            ]
          },
          "metadata": {},
          "execution_count": 31
        }
      ]
    },
    {
      "cell_type": "markdown",
      "metadata": {
        "id": "_cH8JpkBj1xS"
      },
      "source": [
        "# Case 3\n",
        "For the final cases analysis we will be looking at series of equations building up a single feed-forward computation of a logistic regression. The case will not require you to learn fully what is logistic regression. \n",
        "\n",
        "$$X = \\begin{bmatrix} \n",
        "— (x^{(1)})^T— \\\\ \n",
        "— (x^{(2)})^T— \\\\\n",
        "\\vdots \\\\\n",
        "— (x^{(m)})^T— \\\\\n",
        "\\end{bmatrix} \\text{, } \n",
        "Y = \\begin{bmatrix} \n",
        "y^{(1)} \\\\ \n",
        "y^{(2)} \\\\\n",
        "\\vdots \\\\\n",
        "y^{(m)} \\\\\n",
        "\\end{bmatrix} \\text{, and } \n",
        "\\theta = \\begin{bmatrix} \n",
        "\\theta^{(1)} \\\\ \n",
        "\\theta^{(2)} \\\\\n",
        "\\vdots \\\\\n",
        "\\theta^{(m)} \\\\\n",
        "\\end{bmatrix} $$\n",
        "The dataset $X$ has $m$ entries with $n$ features while $Y$ is the vector containing the groud truths of a the entries of $X$, and $\\theta$ are the parameters or weights of the vectors. We first compute the vector product of the dataset and the parameters as:\n",
        "$$ z = x^{(i)}\\theta^{(i)} = X\\cdot \\theta\\\\_{\\text{Eq. 3.1}}$$\n",
        "We then solve for the hypothesis of the logistic regression alogrithm as:\n",
        "\n",
        "$$ h_\\theta(x) = g(z)\\\\_{\\text{Eq. 3.2}}$$\n",
        "\n",
        "Where $g$ is an acitvation function that maps the values of the hypothesis vector between a range of 0 and 1. We computed the activation as a sigmoid function:\n",
        "$$g(z) = \\frac{1}{1+e^{-z}}\\\\_{\\text{Eq. 3.3}}$$\n",
        "Finally we compute the loss of the logistic regression algorithm using $J$. Wheras $J(\\theta)$ is a function that computes the logistic loss of the hypothesis with respect to the ground truths $y$. it is then computed as:\n",
        "$$J(\\theta) = \\frac{1}{m} \\sum^m_{i=0}=[-y^{(i)}\\log({h_{\\theta}(x^{(i)})})-(1-y^{(i)})\\log(1-h_{\\theta}(x^{(i)}))]\\\\_{\\text{Eq. 3.4}}$$"
      ]
    },
    {
      "cell_type": "markdown",
      "metadata": {
        "id": "uwrjWuvrHrsh"
      },
      "source": [
        ""
      ]
    },
    {
      "cell_type": "markdown",
      "metadata": {
        "id": "MQ8jJV9-qyFy"
      },
      "source": [
        "> **Problem 3.a: Matrix Equivalences**\n",
        "\n",
        "> In Eq. 1, $z$ can also be solved as $X \\cdot \\theta$ which is the vectorized form of $x^{(i)}\\theta^{(i)}$. However, it can also be expressed as $\\theta^T\\cdot X$. Prove the equality of $X \\cdot \\theta$ with $\\theta^T\\cdot X$ in this case.\n",
        "\n",
        "> **Problem 3.b: Matrix Shapes**\n",
        "\n",
        "> Determine the shape of $h_\\theta$ if $X$ has a shape of $(300,5)$.\n",
        "\n",
        "> **Problem 3.c: Vectorization**\n",
        "\n",
        "> Express $J(\\theta)$ into its vectorized form.\n",
        "\n",
        "> **Problem 4.c: Computational Programming (Also Laboratory 2)**\n",
        "\n",
        "> Encode Equations 3.1 to 3.4 as the class `LRegression` wherein:\n",
        "\n",
        "> * `LRegression` should be instantiated with a dataset $X$, a ground truth vector $y$, and a parameter vector $\\theta$. Each parameter should have a data type of `numpy.array`.\n",
        "> * It should further have `methods`reflecting to at least the four (4) aforementioned equations. Each should have a return value.\n"
      ]
    },
    {
      "cell_type": "markdown",
      "metadata": {
        "id": "c6W3n5LQmOsF"
      },
      "source": [
        "**Problem 3.a: Matrix Equivalences**"
      ]
    },
    {
      "cell_type": "code",
      "metadata": {
        "id": "492K-MEfM5xx",
        "colab": {
          "base_uri": "https://localhost:8080/"
        },
        "outputId": "34e72ac8-9ae1-4b3c-a5b2-cd09baac6a8b"
      },
      "source": [
        "import numpy as np\n",
        "\n",
        "X = np.exp(50)\n",
        "theta = np.exp(50)\n",
        "\n",
        "z = np.dot(X,theta)\n",
        "\n",
        "z"
      ],
      "execution_count": null,
      "outputs": [
        {
          "output_type": "execute_result",
          "data": {
            "text/plain": [
              "2.688117141816135e+43"
            ]
          },
          "metadata": {},
          "execution_count": 2
        }
      ]
    },
    {
      "cell_type": "code",
      "metadata": {
        "id": "zoAfstTbDLq4",
        "colab": {
          "base_uri": "https://localhost:8080/"
        },
        "outputId": "655d50aa-4537-4bb4-c57f-706d4935ba07"
      },
      "source": [
        "\n",
        "X = np.exp(50)\n",
        "theta = np.exp(50)\n",
        "\n",
        "z = np.dot(X,theta.T)\n",
        "\n",
        "z"
      ],
      "execution_count": null,
      "outputs": [
        {
          "output_type": "execute_result",
          "data": {
            "text/plain": [
              "2.688117141816135e+43"
            ]
          },
          "metadata": {},
          "execution_count": 4
        }
      ]
    },
    {
      "cell_type": "markdown",
      "metadata": {
        "id": "K972lp5n84UN"
      },
      "source": [
        "$$X = \\begin{bmatrix} \n",
        "— (x^{(1)})^T— \\\\ \n",
        "— (x^{(2)})^T— \\\\\n",
        "\\vdots \\\\\n",
        "— (x^{(m)})^T— \\\\\n",
        "\\end{bmatrix}  \\text{ and } \n",
        "\\theta = \\begin{bmatrix} \n",
        "\\theta^{(1)} \\\\ \n",
        "\\theta^{(2)} \\\\\n",
        "\\vdots \\\\\n",
        "\\theta^{(m)} \\\\\n",
        "\\end{bmatrix} $$\n",
        "\n",
        "$$\n",
        "\\text{Computing for the matrix product X}\\theta, \\text{ we have:}\n",
        "$$\n",
        "\n",
        "$$X\\theta = \\begin{bmatrix} \n",
        "— (x^{(1)})^T\\theta— \\\\ \n",
        "— (x^{(2)})^T\\theta— \\\\\n",
        "\\vdots \\\\\n",
        "— (x^{(m)})^T\\theta— \\\\\n",
        "\\end{bmatrix}  \\text{ = } \n",
        "\\begin{bmatrix} \n",
        "— \\theta^T(x^{(1)})— \\\\ \n",
        "— \\theta^T(x^{(2)})— \\\\\n",
        "\\vdots \\\\\n",
        "— \\theta^T(x^{(m)})— \\\\\n",
        "\\end{bmatrix} $$\n",
        ">$X \\cdot \\theta$ = $\\theta^T\\cdot X$\n",
        "$$\\begin{bmatrix} \n",
        "— (x^{(1)})^T— \\\\ \n",
        "— (x^{(2)})^T— \\\\\n",
        "\\vdots \\\\\n",
        "— (x^{(m)})^T— \\\\\n",
        "\\end{bmatrix} . \n",
        "\\begin{bmatrix} \n",
        "\\theta^{(1)} \\\\ \n",
        "\\theta^{(2)} \\\\\n",
        "\\vdots \\\\\n",
        "\\theta^{(m)} \\\\\n",
        "\\end{bmatrix} = \n",
        "\\begin{bmatrix} \n",
        "\\theta^{(1)} \\ \n",
        "\\theta^{(2)} \\\n",
        "\\cdots \\\n",
        "\\theta^{(m)} \\\n",
        "\\end{bmatrix} \\cdot \\begin{bmatrix} \n",
        "— (x^{(1)})^T— \\\\ \n",
        "— (x^{(2)})^T— \\\\\n",
        "\\vdots \\\\\n",
        "— (x^{(m)})^T— \\\\\n",
        "\\end{bmatrix}\n",
        "$$\n",
        "$\\begin{bmatrix}(x^{(1)})^T \\theta^{(1)} + (x^{(2)})^T \\theta^{(2)} \\cdots + (x^{(m)})^T \\theta^{(m)}\\end{bmatrix}$ = $\\begin{bmatrix}(x^{(1)})^T \\theta^{(1)} + (x^{(2)})^T \\theta^{(2)} \\cdots + (x^{(m)})^T \\theta^{(m)}\\end{bmatrix}$"
      ]
    },
    {
      "cell_type": "markdown",
      "metadata": {
        "id": "emO8tNqYE6Jb"
      },
      "source": [
        "**Problem 3.b**"
      ]
    },
    {
      "cell_type": "markdown",
      "metadata": {
        "id": "v54m9m5pvegD"
      },
      "source": [
        "$$ X = \n",
        "\\begin{bmatrix} \n",
        "x^1 & x^2 & x^3 & x^4 & x^5 \\\\ \n",
        "x^6 & x^7 & x^8 & x^9 & x^{10} \\\\ \n",
        "\\vdots & \\vdots & \\vdots & \\vdots & \\vdots \\\\ \n",
        "x^{296} & x^{297} & x^{298} & x^{299} & x^{300} \n",
        "\\end{bmatrix} \n",
        "\\text { , } \n",
        "\\theta = \n",
        "\\begin{bmatrix} \n",
        "(\\theta^1) \\\\\n",
        "(\\theta^2) \\\\ \n",
        "\\vdots \\\\ \n",
        "(\\theta^k)\n",
        "\\end{bmatrix}\n",
        "$$\n",
        "\n",
        "$$\n",
        "g(z) = \\frac{1}{1+e^{-z}}\n",
        "$$\n",
        "\n",
        "$$\n",
        "z =X \\cdot \\theta \\\\\n",
        "h_{\\theta} (x) = g(X\\cdot\\theta) \\\\\n",
        "h_{\\theta} (x) = g(z) \\\\\n",
        "$$\n",
        "\n",
        "$$\n",
        "h_{\\theta}(x) = \n",
        "\\begin{bmatrix} \n",
        "\\theta^{1}(x) & \\theta^{2}(x) & \\theta^{3}(x) & \\theta^{4}(x) & \\theta^{5}(x) \\\\ \n",
        "\\theta^{6}(x) & \\theta^{7}(x) & \\theta^{8}(x) & \\theta^{9}(x) & \\theta^{10}(x) \\\\\n",
        "\\vdots & \\vdots & \\vdots & \\vdots & \\vdots \\\\ \n",
        "\\theta^{296}(x) & \\theta^{297}(x) & \\theta^{298}(x) & \\theta^{299}(x) & \\theta^{300}(x) \\\\\n",
        "\\end{bmatrix} \n",
        "$$"
      ]
    },
    {
      "cell_type": "markdown",
      "metadata": {
        "id": "zYonuYx9E8qu"
      },
      "source": [
        "**Problem 3.c**"
      ]
    },
    {
      "cell_type": "markdown",
      "metadata": {
        "id": "EpIQ4vyzL5_h"
      },
      "source": [
        "$$J(\\theta) = \\frac{1}{m} \\sum^m_{i=0}=[-y^{(i)}\\log({h_{\\theta}(x^{(i)})})-(1-y^{(i)})\\log(1-h_{\\theta}(x^{(i)}))]$$\n",
        "$$\\begin{bmatrix} \n",
        "\\frac{\\partial{J}}{\\partial{\\theta}_0} \\\\ \n",
        "\\frac{\\partial{J}}{\\partial{\\theta}_1} \\\\\n",
        "\\frac{\\partial{J}}{\\partial{\\theta}_2} \\\\\n",
        "\\vdots \\\\\n",
        "\\frac{\\partial{J}}{\\partial{\\theta}_n} \\\\\n",
        "\\end{bmatrix} = \n",
        "\\frac{1}{m}\n",
        "\\begin{bmatrix} \n",
        "\\sum^{m}_{i=1} [ -y^{(i)} \\log (h_{\\theta} (x^{(i)})) - (1-y^{(i)}) \\log (1-h_{\\theta}(x^{(i)}))] \\\\\n",
        "\\sum^{m}_{i=1} [ -y^{(i)} \\log (h_{\\theta} (x^{(i)})) - (1-y^{(i)}) \\log (1-h_{\\theta}(x^{(i)}))] \\\\ \n",
        "\\sum^{m}_{i=1} [ -y^{(i)} \\log (h_{\\theta} (x^{(i)})) - (1-y^{(i)}) \\log (1-h_{\\theta}(x^{(i)}))] \\\\ \n",
        "\\vdots \\\\\n",
        "\\sum^{m}_{i=1} [ -y^{(i)} \\log (h_{\\theta} (x^{(i)})) - (1-y^{(i)}) \\log (1-h_{\\theta}(x^{(i)}))] \\\\ \n",
        "\\end{bmatrix} \n",
        "$$\n",
        "\n",
        "$$\n",
        "\\frac{\\partial{J}(\\theta)}{\\partial{\\theta}_0} =\n",
        "\\frac{1}{m}\n",
        "\\sum\\limits_{i=1}^m (h_0(x^{(i)})-y^{(i)})x^{(i)}_j \n",
        "$$"
      ]
    },
    {
      "cell_type": "markdown",
      "metadata": {
        "id": "GJUteJeEIf2d"
      },
      "source": [
        " **Problem 4.c**"
      ]
    },
    {
      "cell_type": "code",
      "metadata": {
        "id": "TRSV2ueZIew2"
      },
      "source": [
        "class "
      ],
      "execution_count": null,
      "outputs": []
    }
  ]
}